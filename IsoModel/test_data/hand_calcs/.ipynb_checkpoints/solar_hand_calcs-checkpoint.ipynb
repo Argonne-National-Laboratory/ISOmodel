{
 "cells": [
  {
   "cell_type": "code",
   "execution_count": 13,
   "metadata": {
    "collapsed": true
   },
   "outputs": [],
   "source": [
    "from math import *"
   ]
  },
  {
   "cell_type": "code",
   "execution_count": 14,
   "metadata": {
    "collapsed": true
   },
   "outputs": [],
   "source": [
    "day = 20 # Jan 21\n",
    "hour = 12 # Noon\n",
    "lat = 41.98 * pi / 180.0\n",
    "lon = -87.92 * pi / 180.0\n",
    "local_meridian = -90 * pi / 180.0"
   ]
  },
  {
   "cell_type": "code",
   "execution_count": 15,
   "metadata": {
    "collapsed": false
   },
   "outputs": [
    {
     "data": {
      "text/plain": [
       "0.34428412642079925"
      ]
     },
     "execution_count": 15,
     "metadata": {},
     "output_type": "execute_result"
    }
   ],
   "source": [
    "rotation_angle = 2.0 * pi * day / 365.0\n",
    "rotation_angle"
   ]
  },
  {
   "cell_type": "code",
   "execution_count": 16,
   "metadata": {
    "collapsed": false
   },
   "outputs": [
    {
     "data": {
      "text/plain": [
       "-10.602150196429877"
      ]
     },
     "execution_count": 16,
     "metadata": {},
     "output_type": "execute_result"
    }
   ],
   "source": [
    "equation_of_time = (2.2918 * (0.0075 + 0.1868 * cos(rotation_angle)\n",
    "                              - 3.2077 * sin(rotation_angle)\n",
    "                              - 1.4615 * cos(2 * rotation_angle)\n",
    "                              - 4.089 * sin(2 * rotation_angle)))\n",
    "equation_of_time"
   ]
  },
  {
   "cell_type": "code",
   "execution_count": 17,
   "metadata": {
    "collapsed": false
   },
   "outputs": [
    {
     "data": {
      "text/plain": [
       "11.961964163392835"
      ]
     },
     "execution_count": 17,
     "metadata": {},
     "output_type": "execute_result"
    }
   ],
   "source": [
    "apparent_solar_time = (hour + equation_of_time/60\n",
    "                       + (lon - local_meridian) / (pi / 12))\n",
    "apparent_solar_time"
   ]
  },
  {
   "cell_type": "code",
   "execution_count": 18,
   "metadata": {
    "collapsed": false
   },
   "outputs": [
    {
     "data": {
      "text/plain": [
       "-0.35056553686581415"
      ]
     },
     "execution_count": 18,
     "metadata": {},
     "output_type": "execute_result"
    }
   ],
   "source": [
    "declination = (0.006918 - 0.399912*cos(rotation_angle) + 0.070257*sin(rotation_angle)\n",
    "               - 0.006758*cos(2*rotation_angle) + 0.000907*sin(2*rotation_angle)\n",
    "               - 0.002697*cos(3*rotation_angle) + 0.00148*sin(3*rotation_angle))\n",
    "declination"
   ]
  },
  {
   "cell_type": "code",
   "execution_count": 19,
   "metadata": {
    "collapsed": false
   },
   "outputs": [
    {
     "data": {
      "text/plain": [
       "-0.009957758738184193"
      ]
     },
     "execution_count": 19,
     "metadata": {},
     "output_type": "execute_result"
    }
   ],
   "source": [
    "hour_angle = (pi / 12) * (apparent_solar_time - 12)\n",
    "hour_angle"
   ]
  },
  {
   "cell_type": "code",
   "execution_count": 20,
   "metadata": {
    "collapsed": false
   },
   "outputs": [
    {
     "data": {
      "text/plain": [
       "0.4875023918786105"
      ]
     },
     "execution_count": 20,
     "metadata": {},
     "output_type": "execute_result"
    }
   ],
   "source": [
    "altitude_angle = asin(cos(lat) * cos(declination) * cos(hour_angle) + sin(lat) * sin(declination))\n",
    "altitude_angle"
   ]
  },
  {
   "cell_type": "code",
   "execution_count": 21,
   "metadata": {
    "collapsed": false
   },
   "outputs": [
    {
     "data": {
      "text/plain": [
       "-0.010585060645453042"
      ]
     },
     "execution_count": 21,
     "metadata": {},
     "output_type": "execute_result"
    }
   ],
   "source": [
    "azimuth_sin = sin(hour_angle) * cos(declination) / cos(altitude_angle)\n",
    "azimuth_sin"
   ]
  },
  {
   "cell_type": "code",
   "execution_count": 22,
   "metadata": {
    "collapsed": false
   },
   "outputs": [
    {
     "data": {
      "text/plain": [
       "0.9999439766762598"
      ]
     },
     "execution_count": 22,
     "metadata": {},
     "output_type": "execute_result"
    }
   ],
   "source": [
    "azimuth_cos = ((cos(hour_angle) * cos(declination) * sin(lat) - sin(declination) * cos(lat))\n",
    "               / cos(altitude_angle))\n",
    "azimuth_cos"
   ]
  },
  {
   "cell_type": "code",
   "execution_count": 23,
   "metadata": {
    "collapsed": false
   },
   "outputs": [
    {
     "data": {
      "text/plain": [
       "-0.010585258319975917"
      ]
     },
     "execution_count": 23,
     "metadata": {},
     "output_type": "execute_result"
    }
   ],
   "source": [
    "azimuth = atan2(azimuth_sin, azimuth_cos)\n",
    "azimuth"
   ]
  },
  {
   "cell_type": "code",
   "execution_count": null,
   "metadata": {
    "collapsed": true
   },
   "outputs": [],
   "source": []
  }
 ],
 "metadata": {
  "kernelspec": {
   "display_name": "Python 3",
   "language": "python",
   "name": "python3"
  },
  "language_info": {
   "codemirror_mode": {
    "name": "ipython",
    "version": 3
   },
   "file_extension": ".py",
   "mimetype": "text/x-python",
   "name": "python",
   "nbconvert_exporter": "python",
   "pygments_lexer": "ipython3",
   "version": "3.4.3"
  }
 },
 "nbformat": 4,
 "nbformat_minor": 0
}
