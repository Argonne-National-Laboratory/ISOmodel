{
 "cells": [
  {
   "cell_type": "code",
   "execution_count": 19,
   "metadata": {
    "collapsed": true
   },
   "outputs": [],
   "source": [
    "from math import *"
   ]
  },
  {
   "cell_type": "code",
   "execution_count": 31,
   "metadata": {
    "collapsed": true
   },
   "outputs": [],
   "source": [
    "day = 20 # Jan 21\n",
    "hour = 12 # Noon\n",
    "lat = 41.98 * pi / 180.0 # Chicago\n",
    "lon = -87.92 * pi / 180.0 # Chicago\n",
    "local_meridian = -90.0 * pi / 180.0 # CST\n",
    "direct_beam_irradiance = 320 # From ORD.EPW\n",
    "diffuse_irradiance = 175 # From ORD.EPW\n",
    "ground_reflectance = 0.14\n",
    "surface_tilt = pi / 2\n",
    "surface_azimuth = 0.0"
   ]
  },
  {
   "cell_type": "code",
   "execution_count": 21,
   "metadata": {
    "collapsed": false
   },
   "outputs": [
    {
     "data": {
      "text/plain": [
       "0.34428412642079925"
      ]
     },
     "execution_count": 21,
     "metadata": {},
     "output_type": "execute_result"
    }
   ],
   "source": [
    "rotation_angle = 2.0 * pi * day / 365.0\n",
    "rotation_angle"
   ]
  },
  {
   "cell_type": "code",
   "execution_count": 22,
   "metadata": {
    "collapsed": false
   },
   "outputs": [
    {
     "data": {
      "text/plain": [
       "-10.602150196429877"
      ]
     },
     "execution_count": 22,
     "metadata": {},
     "output_type": "execute_result"
    }
   ],
   "source": [
    "equation_of_time = (2.2918 * (0.0075 + 0.1868 * cos(rotation_angle)\n",
    "                              - 3.2077 * sin(rotation_angle)\n",
    "                              - 1.4615 * cos(2 * rotation_angle)\n",
    "                              - 4.089 * sin(2 * rotation_angle)))\n",
    "equation_of_time"
   ]
  },
  {
   "cell_type": "code",
   "execution_count": 23,
   "metadata": {
    "collapsed": false,
    "scrolled": true
   },
   "outputs": [
    {
     "data": {
      "text/plain": [
       "11.961964163392835"
      ]
     },
     "execution_count": 23,
     "metadata": {},
     "output_type": "execute_result"
    }
   ],
   "source": [
    "apparent_solar_time = (hour + equation_of_time/60\n",
    "                       + (lon - local_meridian) / (pi / 12))\n",
    "apparent_solar_time"
   ]
  },
  {
   "cell_type": "code",
   "execution_count": 24,
   "metadata": {
    "collapsed": false
   },
   "outputs": [
    {
     "data": {
      "text/plain": [
       "-0.35056553686581415"
      ]
     },
     "execution_count": 24,
     "metadata": {},
     "output_type": "execute_result"
    }
   ],
   "source": [
    "declination = (0.006918 - 0.399912*cos(rotation_angle) + 0.070257*sin(rotation_angle)\n",
    "               - 0.006758*cos(2*rotation_angle) + 0.000907*sin(2*rotation_angle)\n",
    "               - 0.002697*cos(3*rotation_angle) + 0.00148*sin(3*rotation_angle))\n",
    "declination"
   ]
  },
  {
   "cell_type": "code",
   "execution_count": 25,
   "metadata": {
    "collapsed": false
   },
   "outputs": [
    {
     "data": {
      "text/plain": [
       "-0.009957758738184193"
      ]
     },
     "execution_count": 25,
     "metadata": {},
     "output_type": "execute_result"
    }
   ],
   "source": [
    "hour_angle = (pi / 12) * (apparent_solar_time - 12)\n",
    "hour_angle"
   ]
  },
  {
   "cell_type": "code",
   "execution_count": 26,
   "metadata": {
    "collapsed": false
   },
   "outputs": [
    {
     "data": {
      "text/plain": [
       "0.4875023918786105"
      ]
     },
     "execution_count": 26,
     "metadata": {},
     "output_type": "execute_result"
    }
   ],
   "source": [
    "altitude_angle = asin(cos(lat) * cos(declination) * cos(hour_angle) + sin(lat) * sin(declination))\n",
    "altitude_angle"
   ]
  },
  {
   "cell_type": "code",
   "execution_count": 27,
   "metadata": {
    "collapsed": false
   },
   "outputs": [
    {
     "data": {
      "text/plain": [
       "-0.010585060645453042"
      ]
     },
     "execution_count": 27,
     "metadata": {},
     "output_type": "execute_result"
    }
   ],
   "source": [
    "azimuth_sin = sin(hour_angle) * cos(declination) / cos(altitude_angle)\n",
    "azimuth_sin"
   ]
  },
  {
   "cell_type": "code",
   "execution_count": 28,
   "metadata": {
    "collapsed": false
   },
   "outputs": [
    {
     "data": {
      "text/plain": [
       "0.9999439766762598"
      ]
     },
     "execution_count": 28,
     "metadata": {},
     "output_type": "execute_result"
    }
   ],
   "source": [
    "azimuth_cos = ((cos(hour_angle) * cos(declination) * sin(lat) - sin(declination) * cos(lat))\n",
    "               / cos(altitude_angle))\n",
    "azimuth_cos"
   ]
  },
  {
   "cell_type": "code",
   "execution_count": 29,
   "metadata": {
    "collapsed": false
   },
   "outputs": [
    {
     "data": {
      "text/plain": [
       "-0.010585258319975917"
      ]
     },
     "execution_count": 29,
     "metadata": {},
     "output_type": "execute_result"
    }
   ],
   "source": [
    "azimuth = atan2(azimuth_sin, azimuth_cos)\n",
    "azimuth"
   ]
  },
  {
   "cell_type": "code",
   "execution_count": 30,
   "metadata": {
    "collapsed": false
   },
   "outputs": [
    {
     "data": {
      "text/plain": [
       "22.742623699187682"
      ]
     },
     "execution_count": 30,
     "metadata": {},
     "output_type": "execute_result"
    }
   ],
   "source": [
    "ground_reflected_irradiance = ((direct_beam_irradiance*sin(altitude_angle) + diffuse_irradiance)\n",
    "                              * ground_reflectance * ((1 - cos(surface_tilt)) / 2))\n",
    "ground_reflected_irradiance"
   ]
  },
  {
   "cell_type": "code",
   "execution_count": 33,
   "metadata": {
    "collapsed": false
   },
   "outputs": [
    {
     "data": {
      "text/plain": [
       "0.010585258319975917"
      ]
     },
     "execution_count": 33,
     "metadata": {},
     "output_type": "execute_result"
    }
   ],
   "source": [
    "surface_solar_azimuth = abs(azimuth - surface_azimuth)\n",
    "surface_solar_azimuth"
   ]
  },
  {
   "cell_type": "code",
   "execution_count": 34,
   "metadata": {
    "collapsed": false
   },
   "outputs": [
    {
     "data": {
      "text/plain": [
       "0.4876080490062035"
      ]
     },
     "execution_count": 34,
     "metadata": {},
     "output_type": "execute_result"
    }
   ],
   "source": [
    "angle_of_incidence = acos(cos(altitude_angle) * cos(surface_solar_azimuth) * sin(surface_tilt)\n",
    "                          + sin(altitude_angle) * cos(surface_tilt))\n",
    "angle_of_incidence"
   ]
  },
  {
   "cell_type": "code",
   "execution_count": 35,
   "metadata": {
    "collapsed": false
   },
   "outputs": [
    {
     "data": {
      "text/plain": [
       "282.7059351987666"
      ]
     },
     "execution_count": 35,
     "metadata": {},
     "output_type": "execute_result"
    }
   ],
   "source": [
    "total_direct_beam_irradiance = direct_beam_irradiance * max(cos(angle_of_incidence), 0.0)\n",
    "total_direct_beam_irradiance"
   ]
  },
  {
   "cell_type": "code",
   "execution_count": 36,
   "metadata": {
    "collapsed": false
   },
   "outputs": [
    {
     "data": {
      "text/plain": [
       "1.1803650987552168"
      ]
     },
     "execution_count": 36,
     "metadata": {},
     "output_type": "execute_result"
    }
   ],
   "source": [
    "diffuse_angle_of_incidence_factor = max(0.45, 0.55 + 0.437*cos(angle_of_incidence)\n",
    "                                              + 0.313*cos(angle_of_incidence)**2)\n",
    "diffuse_angle_of_incidence_factor"
   ]
  },
  {
   "cell_type": "code",
   "execution_count": 37,
   "metadata": {
    "collapsed": false
   },
   "outputs": [
    {
     "data": {
      "text/plain": [
       "206.56389228216293"
      ]
     },
     "execution_count": 37,
     "metadata": {},
     "output_type": "execute_result"
    }
   ],
   "source": [
    "# This is the equation for a vertical or inward tilted surface.\n",
    "total_diffuse_irradiance = diffuse_irradiance * (diffuse_angle_of_incidence_factor\n",
    "                                                 * sin(surface_tilt) + cos(surface_tilt))\n",
    "total_diffuse_irradiance"
   ]
  },
  {
   "cell_type": "code",
   "execution_count": 38,
   "metadata": {
    "collapsed": false
   },
   "outputs": [
    {
     "data": {
      "text/plain": [
       "512.0124511801172"
      ]
     },
     "execution_count": 38,
     "metadata": {},
     "output_type": "execute_result"
    }
   ],
   "source": [
    "total_irradiance = total_direct_beam_irradiance + total_diffuse_irradiance + ground_reflected_irradiance\n",
    "total_irradiance"
   ]
  },
  {
   "cell_type": "code",
   "execution_count": null,
   "metadata": {
    "collapsed": true
   },
   "outputs": [],
   "source": []
  }
 ],
 "metadata": {
  "kernelspec": {
   "display_name": "Python 3",
   "language": "python",
   "name": "python3"
  },
  "language_info": {
   "codemirror_mode": {
    "name": "ipython",
    "version": 3
   },
   "file_extension": ".py",
   "mimetype": "text/x-python",
   "name": "python",
   "nbconvert_exporter": "python",
   "pygments_lexer": "ipython3",
   "version": "3.4.3"
  }
 },
 "nbformat": 4,
 "nbformat_minor": 0
}
